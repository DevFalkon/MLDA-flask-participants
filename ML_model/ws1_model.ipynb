{
 "cells": [
  {
   "cell_type": "code",
   "execution_count": 1,
   "metadata": {},
   "outputs": [],
   "source": [
    "import pandas as pd\n",
    "from sklearn.feature_extraction.text import TfidfVectorizer\n",
    "from sklearn.metrics.pairwise import linear_kernel"
   ]
  },
  {
   "cell_type": "code",
   "execution_count": 2,
   "metadata": {},
   "outputs": [],
   "source": [
    "df = pd.read_csv('dataframe.csv')"
   ]
  },
  {
   "cell_type": "code",
   "execution_count": 3,
   "metadata": {},
   "outputs": [],
   "source": [
    "# Calculating cosine similarities from lyrics and storing similar song results in results dict\n",
    "tf = TfidfVectorizer(analyzer='word', min_df=0.0, max_features= 100 ,stop_words='english', lowercase=True)\n",
    "tfidf_matrix = tf.fit_transform(df['lyrics'])\n",
    "\n",
    "cosine_similarities = linear_kernel(tfidf_matrix, tfidf_matrix)\n",
    "results = {}\n",
    "\n",
    "for idx, row in df.iterrows():\n",
    "    similar_indices = cosine_similarities[idx].argsort()[:-100:-1]\n",
    "    similar_items = [(cosine_similarities[idx][i], df['id'][i]) for i in similar_indices]\n",
    "    results[row['id']] = similar_items[1:]"
   ]
  },
  {
   "cell_type": "code",
   "execution_count": 4,
   "metadata": {},
   "outputs": [],
   "source": [
    "def item(id):\n",
    "    return df.loc[df['id'] == id]['song']\n",
    "\n",
    "def recommend(id, num):\n",
    "    print(\"Recommending \" + str(num) + \" songs similar to \" + item(id))\n",
    "    recs = results[id][:num]\n",
    "    i=0\n",
    "    for rec in recs:\n",
    "        print(\"We recommend : \" + item(rec[1]) + \" (score:\" + str(rec[0]) + \")\")"
   ]
  },
  {
   "cell_type": "code",
   "execution_count": 5,
   "metadata": {},
   "outputs": [
    {
     "name": "stdout",
     "output_type": "stream",
     "text": [
      "2    Recommending 5 songs similar to Travis-scott-g...\n",
      "Name: song, dtype: object\n",
      "6952    We recommend : Tyga-u-cry (score:0.90219162018...\n",
      "Name: song, dtype: object\n",
      "1819    We recommend : Goldlink-u-say (score:0.8873947...\n",
      "Name: song, dtype: object\n",
      "1662    We recommend : Logic-time-machine (score:0.861...\n",
      "Name: song, dtype: object\n",
      "2863    We recommend : Future-yeah-yeah (score:0.85727...\n",
      "Name: song, dtype: object\n",
      "3605    We recommend : Bts-euphoria (score:0.856419188...\n",
      "Name: song, dtype: object\n"
     ]
    }
   ],
   "source": [
    "recommend(14,5)"
   ]
  },
  {
   "cell_type": "code",
   "execution_count": null,
   "metadata": {},
   "outputs": [],
   "source": []
  }
 ],
 "metadata": {
  "kernelspec": {
   "display_name": "Python 3",
   "language": "python",
   "name": "python3"
  },
  "language_info": {
   "codemirror_mode": {
    "name": "ipython",
    "version": 3
   },
   "file_extension": ".py",
   "mimetype": "text/x-python",
   "name": "python",
   "nbconvert_exporter": "python",
   "pygments_lexer": "ipython3",
   "version": "3.11.5"
  }
 },
 "nbformat": 4,
 "nbformat_minor": 2
}
